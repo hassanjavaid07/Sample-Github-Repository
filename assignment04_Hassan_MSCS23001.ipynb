{
  "cells": [
    {
      "cell_type": "markdown",
      "metadata": {
        "id": "view-in-github",
        "colab_type": "text"
      },
      "source": [
        "<a href=\"https://colab.research.google.com/github/hassanjavaid07/Sample-Github-Repository/blob/main/assignment04_Hassan_MSCS23001.ipynb\" target=\"_parent\"><img src=\"https://colab.research.google.com/assets/colab-badge.svg\" alt=\"Open In Colab\"/></a>"
      ]
    },
    {
      "cell_type": "markdown",
      "metadata": {
        "id": "VCHK5H9y3VvE"
      },
      "source": [
        "###<u> **GENERATIVE AI & LLM PROGRAMMING ASSIGNMENT # 4** </u>\n",
        "\n",
        "- **NAME = HASSAN JAVAID**\n",
        "- **ROLL NO. = MSCS23001**\n",
        "- **TASK = Implementation of Multi-Agentic Retreival Augmented Generation (RAG) for document and search related queries**\n",
        "- **LLM used: CHATGROQ WITH RAG**\n"
      ]
    },
    {
      "cell_type": "markdown",
      "source": [
        "* This assignment was submitted as part of course CS-500 Generative AI & LLM conducted in ITU, Lahore during Fall-2024.\n",
        "\n",
        "* **<u>Hugging Face Space Link</u>:** [link text](https://)\n",
        "\n",
        "\n",
        "* **<u>GitHub Repo Link</u>:** [link text](https://)\n",
        "\n",
        "\n",
        "* This file and relavant repos are the property of the author and is under MIT License. Give credit when sharing."
      ],
      "metadata": {
        "id": "_aQi6Mpj6Ezd"
      }
    },
    {
      "cell_type": "markdown",
      "source": [
        "### Package Installation and Environment Setup"
      ],
      "metadata": {
        "id": "qy6bX-la3YI9"
      }
    },
    {
      "cell_type": "code",
      "execution_count": null,
      "metadata": {
        "colab": {
          "base_uri": "https://localhost:8080/"
        },
        "id": "qCNrgcIOnfzN",
        "outputId": "7d67e397-cb92-4e27-82f8-442fda12cd3b"
      },
      "outputs": [
        {
          "name": "stdout",
          "output_type": "stream",
          "text": [
            "Note: you may need to restart the kernel to use updated packages.\n"
          ]
        },
        {
          "name": "stderr",
          "output_type": "stream",
          "text": [
            "\n",
            "[notice] A new release of pip is available: 23.2.1 -> 24.3.1\n",
            "[notice] To update, run: python.exe -m pip install --upgrade pip\n"
          ]
        }
      ],
      "source": [
        "!pip install -q -r requirements.txt"
      ]
    },
    {
      "cell_type": "code",
      "execution_count": null,
      "metadata": {
        "id": "7D2Xynuz3VvG",
        "outputId": "e807e9db-ad74-4659-cda9-29101a79dbe1"
      },
      "outputs": [
        {
          "name": "stderr",
          "output_type": "stream",
          "text": [
            "d:\\new-venv\\new-env\\Lib\\site-packages\\tqdm\\auto.py:21: TqdmWarning: IProgress not found. Please update jupyter and ipywidgets. See https://ipywidgets.readthedocs.io/en/stable/user_install.html\n",
            "  from .autonotebook import tqdm as notebook_tqdm\n"
          ]
        }
      ],
      "source": [
        "import os\n",
        "from typing import Literal\n",
        "from typing_extensions import TypedDict\n",
        "\n",
        "import json\n",
        "import tqdm\n",
        "import dotenv\n",
        "import asyncio\n",
        "import gradio as gr\n",
        "from tqdm import tqdm\n",
        "from datasets import Dataset\n",
        "from IPython.display import display, Image, Markdown\n",
        "from sklearn.metrics.pairwise import cosine_similarity\n",
        "\n",
        "from langchain.chains import RetrievalQA\n",
        "from langchain.document_loaders import PyMuPDFLoader\n",
        "from langchain.text_splitter import RecursiveCharacterTextSplitter\n",
        "from langchain.vectorstores import Pinecone\n",
        "from langchain_huggingface import HuggingFaceEmbeddings\n",
        "from langchain_groq import ChatGroq\n",
        "from langchain.schema import HumanMessage\n",
        "from langchain_core.prompts import ChatPromptTemplate, MessagesPlaceholder\n",
        "from langchain_core.tools import tool\n",
        "from langgraph.graph import MessagesState, StateGraph, START, END\n",
        "from langgraph.types import Command\n",
        "from langgraph.prebuilt import create_react_agent\n",
        "\n",
        "from unstructured.partition.auto import partition\n",
        "from langchain_community.tools.tavily_search import TavilySearchResults\n",
        "\n",
        "import pinecone\n",
        "\n",
        "# RAGAS Metrics and Evaluation\n",
        "from ragas import evaluate\n",
        "from ragas.metrics import faithfulness, answer_correctness\n"
      ]
    },
    {
      "cell_type": "code",
      "execution_count": null,
      "metadata": {
        "id": "Hog10fqw3VvH",
        "outputId": "6a2def94-b7d3-4160-de6b-cdedc71baf7d"
      },
      "outputs": [
        {
          "data": {
            "text/plain": [
              "True"
            ]
          },
          "execution_count": 2,
          "metadata": {},
          "output_type": "execute_result"
        }
      ],
      "source": [
        "dotenv.load_dotenv()"
      ]
    },
    {
      "cell_type": "markdown",
      "source": [
        "### Document parsing and upserting to Pinecone\n",
        "\n",
        "*   This section is optional if this is already done"
      ],
      "metadata": {
        "id": "xD0AyeCA3pII"
      }
    },
    {
      "cell_type": "code",
      "execution_count": null,
      "metadata": {
        "id": "gAz1GFO03VvH"
      },
      "outputs": [],
      "source": [
        "doc_fn = \"NetSol_Financial Statement_2024_Part 1.pdf\""
      ]
    },
    {
      "cell_type": "code",
      "execution_count": null,
      "metadata": {
        "id": "aBuszSg9MpeA"
      },
      "outputs": [],
      "source": [
        "elements = partition(doc_fn)\n",
        "print(len(elements))"
      ]
    },
    {
      "cell_type": "code",
      "execution_count": null,
      "metadata": {
        "collapsed": true,
        "id": "xHf67V9iORiQ"
      },
      "outputs": [],
      "source": [
        "print(\"\\n\\n\".join([str(el) for el in elements]))"
      ]
    },
    {
      "cell_type": "code",
      "execution_count": null,
      "metadata": {
        "id": "o7gb3i_E3VvI"
      },
      "outputs": [],
      "source": [
        "docs = PyMuPDFLoader(doc_fn).load()\n",
        "\n",
        "text_splitter = RecursiveCharacterTextSplitter(\n",
        "    chunk_size = 300,\n",
        "    chunk_overlap = 0,\n",
        "    length_function = len,\n",
        ")\n",
        "\n",
        "split_chunks = text_splitter.split_documents(docs)"
      ]
    },
    {
      "cell_type": "code",
      "execution_count": null,
      "metadata": {
        "id": "z8ohjWycakVE"
      },
      "outputs": [],
      "source": [
        "# Initialize Pinecone with API key and environment\n",
        "pc = pinecone.Pinecone(\n",
        "    api_key=os.environ['PINECONE_API_KEY'],  # Pinecone API Key\n",
        "    environment=os.environ.get('PINECONE_ENVIRONMENT')  # Pinecone Environment\n",
        ")\n",
        "\n",
        "index_name = \"gen-ai-hw4\"\n",
        "\n",
        "# Ensure the index exists\n",
        "if index_name not in pc.list_indexes().names():\n",
        "    pc.create_index(\n",
        "        name=index_name,\n",
        "        dimension=384,  # Dimension of the embedding model\n",
        "        metric='cosine'  # Metric for similarity\n",
        "    )\n",
        "index = pc.Index(index_name)\n",
        "\n",
        "# Initialize HuggingFace Embeddings\n",
        "embedding_model = HuggingFaceEmbeddings(model_name=\"sentence-transformers/all-MiniLM-L6-v2\")\n",
        "\n",
        "# Initialize LangChain's Pinecone vector store\n",
        "vector_store = Pinecone.from_existing_index(\n",
        "    index_name=index_name,\n",
        "    embedding=embedding_model,  # Embedding function\n",
        "    text_key=\"text\"  # Metadata key for the original text\n",
        ")"
      ]
    },
    {
      "cell_type": "code",
      "execution_count": null,
      "metadata": {
        "id": "TZ5lcCkO3VvI"
      },
      "outputs": [],
      "source": [
        "# RUN ONLY ONCE FOR UPLOADING TO PINECONE\n",
        "from concurrent.futures import ThreadPoolExecutor\n",
        "\n",
        "def chunk_generator(text, chunk_size=1000, overlap=100):\n",
        "    start = 0\n",
        "    while start < len(text):\n",
        "        chunk = text[start:start+chunk_size]\n",
        "        start += chunk_size - overlap\n",
        "        yield chunk\n",
        "\n",
        "def upsert(data_batch):\n",
        "    index.upsert(data_batch)\n",
        "\n",
        "with ThreadPoolExecutor(max_workers=10) as executor:\n",
        "    # Initialize tqdm progress bar\n",
        "    total_chunks = sum(1 for _ in chunk_generator(elements, chunk_size=2000, overlap=100))\n",
        "    with tqdm(total=total_chunks, desc=\"Processing chunks\") as progress_bar:\n",
        "        for counter, chunk in enumerate(chunk_generator(elements, chunk_size=2000, overlap=100)):\n",
        "            print(f'Processing chunk {counter}')\n",
        "\n",
        "            text_chunk = [str(el) for el in chunk]\n",
        "            embeddings = embedding_model.embed_documents(text_chunk)\n",
        "\n",
        "            # Prepare data for upsert\n",
        "            data_batch = [\n",
        "                {\n",
        "                    'id': f'{counter}-{i}',\n",
        "                    'values': embedding,\n",
        "                    'metadata': {'text': text_chunk[i]}\n",
        "                }\n",
        "                for i, embedding in enumerate(embeddings)\n",
        "            ]\n",
        "\n",
        "            # Submit to thread pool\n",
        "            executor.submit(upsert, data_batch)\n",
        "\n",
        "            # Update the progress bar\n",
        "            progress_bar.update(1)"
      ]
    },
    {
      "cell_type": "code",
      "execution_count": null,
      "metadata": {
        "colab": {
          "base_uri": "https://localhost:8080/"
        },
        "id": "NSV3A7w8hhn9",
        "outputId": "a2a7cda0-0bf6-4b03-b594-ffc14a372424"
      },
      "outputs": [
        {
          "name": "stderr",
          "output_type": "stream",
          "text": [
            "Processing Chunks: 100%|██████████| 1151/1151 [03:44<00:00,  5.13it/s]\n"
          ]
        }
      ],
      "source": [
        "# RUN ONLY ONCE FOR UPLOADING TO PINECONE\n",
        "from concurrent.futures import ThreadPoolExecutor\n",
        "\n",
        "def upsert(data_batch):\n",
        "    index.upsert(data_batch)\n",
        "\n",
        "with ThreadPoolExecutor(max_workers=10) as executor:\n",
        "    # Use tqdm to wrap the split_chunks iterable\n",
        "    for counter, chunk in tqdm(enumerate(split_chunks), total=len(split_chunks), desc=\"Processing Chunks\"):\n",
        "        # print(f'Processing chunk {counter}')\n",
        "\n",
        "        text_chunk = [str(el) for el in chunk]\n",
        "        embeddings = embedding_model.embed_documents(text_chunk)\n",
        "\n",
        "        # Prepare data for upsert\n",
        "        data_batch = [\n",
        "            {\n",
        "                'id': f'{counter}-{i}',\n",
        "                'values': embedding,\n",
        "                'metadata': {'text': text_chunk[i]}\n",
        "            }\n",
        "            for i, embedding in enumerate(embeddings)\n",
        "        ]\n",
        "\n",
        "        # Submit to thread pool\n",
        "        executor.submit(upsert, data_batch)\n"
      ]
    },
    {
      "cell_type": "code",
      "execution_count": null,
      "metadata": {
        "colab": {
          "base_uri": "https://localhost:8080/"
        },
        "id": "8QwR8OmEMEYo",
        "outputId": "c9bc54b0-a1ac-48b5-a839-7758042d2409"
      },
      "outputs": [
        {
          "data": {
            "text/plain": [
              "{'dimension': 384,\n",
              " 'index_fullness': 0.0,\n",
              " 'namespaces': {'': {'vector_count': 7005}},\n",
              " 'total_vector_count': 7005}"
            ]
          },
          "execution_count": 5,
          "metadata": {},
          "output_type": "execute_result"
        }
      ],
      "source": [
        "index.describe_index_stats()"
      ]
    },
    {
      "cell_type": "markdown",
      "source": [
        "#### Write structured data to text-files"
      ],
      "metadata": {
        "id": "awt1aosW4AgT"
      }
    },
    {
      "cell_type": "code",
      "execution_count": null,
      "metadata": {
        "id": "yZfzBPu93VvJ"
      },
      "outputs": [],
      "source": [
        "elements_file_path = 'structured-data/elements.txt'\n",
        "split_chunks_file_path = 'structured-data/split_chunks.txt'\n",
        "\n",
        "with open(elements_file_path, 'w', encoding='utf-8') as f_elements:\n",
        "    for element in elements:\n",
        "        f_elements.write(str(element) + '\\n')\n",
        "\n",
        "with open(split_chunks_file_path, 'w', encoding='utf-8') as f_chunks:\n",
        "    for chunk in split_chunks:\n",
        "        f_chunks.write(chunk.page_content + '\\n')\n"
      ]
    },
    {
      "cell_type": "markdown",
      "source": [
        "### Test Retreival Chain"
      ],
      "metadata": {
        "id": "RKIt1Ok-4U-V"
      }
    },
    {
      "cell_type": "code",
      "execution_count": null,
      "metadata": {
        "colab": {
          "base_uri": "https://localhost:8080/"
        },
        "id": "_qO0NTGiXG-9",
        "outputId": "24b7ed66-f5d0-4e3d-e1fb-677dc972f6f8"
      },
      "outputs": [
        {
          "name": "stderr",
          "output_type": "stream",
          "text": [
            "C:\\Users\\HP\\AppData\\Local\\Temp\\ipykernel_15688\\2501360083.py:3: LangChainDeprecationWarning: The method `BaseRetriever.get_relevant_documents` was deprecated in langchain-core 0.1.46 and will be removed in 1.0. Use :meth:`~invoke` instead.\n",
            "  retrieved_docs = retriever.get_relevant_documents(query)\n"
          ]
        },
        {
          "name": "stdout",
          "output_type": "stream",
          "text": [
            "('page_content', 'In North America, NETSOL was a part of \\ndifferent events in both the United States as \\nwell as Canada. In the US, the company was \\npresent at the ELFA Operations and Technol-\\nogy Conference, the AFSA Annual Meeting, \\nthe ELFA Annual Convention, the Auto \\nFinance Summit and the Open Silicon Valley')\n",
            "('page_content', 'Asia  Afrika Street No. 8, Senayan, Kebayoran Baru, South Jakarta, DKI Jakarta, 10270, Indonesia.\\nThe Company is a majority owned subsidiary of NetSol Technologies Inc. USA.\\n2.\\nBasis of Preparation\\n2.1\\nSeparate financial statements')\n",
            "('page_content', 'management and its employees \\nacknowledge his contributions to \\nfounding this company back in 1996 \\nand as its foremost investor, who \\nbelieved that NETSOL will change \\nPakistan’s IT sector. \\nSalim Ullah Ghauri\\nCEO\\nLahore\\nSeptember 12, 2024\\n23\\nAnnual Report 2024\\n23\\nAnnual Report 2024')\n"
          ]
        }
      ],
      "source": [
        "retriever = vector_store.as_retriever(search_kwargs={\"k\": 3})\n",
        "query = \"Who is the chairman of NetSol technologies?\"\n",
        "retrieved_docs = retriever.get_relevant_documents(query)\n",
        "for doc in retrieved_docs:\n",
        "    print(doc.page_content)"
      ]
    },
    {
      "cell_type": "code",
      "execution_count": null,
      "metadata": {
        "colab": {
          "base_uri": "https://localhost:8080/",
          "height": 46
        },
        "id": "Ii5su4QKnr5a",
        "outputId": "a0efce80-da66-44c5-bebe-af09007c647c"
      },
      "outputs": [
        {
          "data": {
            "text/markdown": [
              "Hello! I'm here to help you with any questions you have about statistics or data analysis. In the meantime, here are a few fun facts about the number \"hello world\" is often the first program written by people learning to code.\n",
              "\n",
              "* The words \"hello world\" have been used in this context since at least 1974.\n",
              "* The first edition of the book \"The C Programming Language\" by Brian Kernighan and Dennis Ritchie, published in 1978, includes a \"hello world\" program as an example.\n",
              "* The tradition of using \"hello world\" as a first program has been adopted by many other programming languages.\n",
              "* In some languages, such as Whitespace, it is possible to write a \"hello world\" program in just a few characters.\n",
              "* In other languages, such as INTERCAL, it can take hundreds of characters to write a \"hello world\" program.\n",
              "\n",
              "I hope you find these facts interesting! Let me know if you have any questions."
            ],
            "text/plain": [
              "<IPython.core.display.Markdown object>"
            ]
          },
          "execution_count": 7,
          "metadata": {},
          "output_type": "execute_result"
        }
      ],
      "source": [
        "llm = ChatGroq(temperature=0, model_name=\"mixtral-8x7b-32768\", api_key=os.environ['GROQ_API_KEY'])\n",
        "out = llm.invoke('Hello world!')\n",
        "Markdown(out.content)"
      ]
    },
    {
      "cell_type": "code",
      "execution_count": null,
      "metadata": {
        "colab": {
          "base_uri": "https://localhost:8080/"
        },
        "id": "JfTT26bbXOvp",
        "outputId": "81e75842-efdc-496b-bd37-62b0d076d197"
      },
      "outputs": [
        {
          "name": "stderr",
          "output_type": "stream",
          "text": [
            "C:\\Users\\HP\\AppData\\Local\\Temp\\ipykernel_15688\\2100348777.py:2: LangChainDeprecationWarning: The method `Chain.run` was deprecated in langchain 0.1.0 and will be removed in 1.0. Use :meth:`~invoke` instead.\n",
            "  response = qa_chain.run(query)\n"
          ]
        },
        {
          "name": "stdout",
          "output_type": "stream",
          "text": [
            "I don't have enough information to determine the current chairman of NetSol Technologies. The provided context includes details about NetSol's presence in North America and Asia, as well as an annual report mentioning the CEO, Salim Ullah Ghauri. However, it does not specify who the chairman is.\n"
          ]
        }
      ],
      "source": [
        "qa_chain = RetrievalQA.from_chain_type(llm=llm, retriever=retriever)\n",
        "response = qa_chain.run(query)\n",
        "print(response)"
      ]
    },
    {
      "cell_type": "markdown",
      "source": [
        "### System Prompt for query and query-rewrite"
      ],
      "metadata": {
        "id": "wydHm-i34hNp"
      }
    },
    {
      "cell_type": "code",
      "execution_count": null,
      "metadata": {
        "id": "Zrdr41Eem8ge"
      },
      "outputs": [],
      "source": [
        "SYS_PROMPT = \"\"\"\n",
        "\n",
        "Based on the content of your PDF document, here's a prompt to gather information:\n",
        "\n",
        "\"Gather information from the Netsol investor relations report PDF document. Please extract the following data points:\n",
        "\n",
        "1. Financial Highlights:\n",
        "\t* Revenue figures for the past two years\n",
        "\t* Net income figures for the past two years\n",
        "\t* Gross profit margin percentages for the past two years\n",
        "\t* Total assets and liabilities figures for the past two years\n",
        "2. Board of Directors and Senior Management:\n",
        "\t* Names and positions of the company's board of directors\n",
        "\t* Names and positions of the company's senior management team (including the Chairman, CEO, CFO, etc.)\n",
        "3. Company Profile:\n",
        "\t* Overview of the company's products/services\n",
        "\t* Main business segments\n",
        "\t* Mission and vision statements\n",
        "\t* Brief history of the company\n",
        "4. Visualizations and Graphs:\n",
        "\t* Identify any graphs or charts that show trends in revenue, net income, or other key financial metrics\n",
        "\t* Extract any information from infographics or plots that provide insights into the company's performance or industry trends\n",
        "5. Financial Terms:\n",
        "\t* Define and provide examples of key financial terms used throughout the report (e.g., EBITDA, ROCE, etc.)\n",
        "6. Images and Pictures:\n",
        "\t* Identify the names and roles of the company's board of directors and senior management team mentioned in the report\n",
        "\t* Describe any notable events or milestones mentioned in the report\n",
        "\n",
        "Please organize the extracted information into clear and concise sections, and provide any additional context or clarifications where necessary.\"\n",
        "\n",
        "\"\"\""
      ]
    },
    {
      "cell_type": "markdown",
      "source": [
        "### Agentic Tools Definitions\n",
        "\n",
        "\n",
        "\n",
        "*   **Tavily-search tool** for internet related queries\n",
        "*   **Doc-query tool** for document related queries\n",
        "*   **General tool** for general queries\n",
        "*   **Math tool** was also implemented but later removed due to brevity of task\n",
        "\n"
      ],
      "metadata": {
        "id": "nmDtcYyX4ugv"
      }
    },
    {
      "cell_type": "code",
      "execution_count": null,
      "metadata": {
        "id": "yc2HHnnkRYCs"
      },
      "outputs": [],
      "source": [
        "@tool\n",
        "def multiply(a: int, b: int) -> int:\n",
        "    \"\"\"Multiply a and b.\n",
        "\n",
        "    Args:\n",
        "        a: first int\n",
        "        b: second int\n",
        "    \"\"\"\n",
        "    return a * b\n",
        "\n",
        "@tool\n",
        "def add(a: int, b: int) -> int:\n",
        "    \"\"\"Add a and b.\n",
        "\n",
        "    Args:\n",
        "        a: first int\n",
        "        b: second int\n",
        "\n",
        "    Returns:\n",
        "        The sum of a and b.\n",
        "    \"\"\"\n",
        "    return a + b\n",
        "\n",
        "@tool\n",
        "def subtract(a: int, b: int) -> int:\n",
        "    \"\"\"Subtract b from a.\n",
        "\n",
        "    Args:\n",
        "        a: first int\n",
        "        b: second int\n",
        "\n",
        "    Returns:\n",
        "        The difference of a and b.\n",
        "    \"\"\"\n",
        "    return a - b\n",
        "\n",
        "@tool\n",
        "def divide(a: int, b: int) -> float:\n",
        "    \"\"\"Divide a by b.\n",
        "\n",
        "    Args:\n",
        "        a: numerator\n",
        "        b: denominator\n",
        "\n",
        "    Returns:\n",
        "        The division of a by b.\n",
        "\n",
        "    Raises:\n",
        "        ValueError: If b is zero.\n",
        "    \"\"\"\n",
        "    if b == 0:\n",
        "        raise ValueError(\"Division by zero is not allowed.\")\n",
        "    return a / b\n",
        "\n",
        "@tool\n",
        "def exponentiate(a: int, b: int) -> int:\n",
        "    \"\"\"Raise a to the power of b.\n",
        "\n",
        "    Args:\n",
        "        a: base\n",
        "        b: exponent\n",
        "\n",
        "    Returns:\n",
        "        a raised to the power of b.\n",
        "    \"\"\"\n",
        "    return a ** b\n",
        "\n",
        "# Tavily search tool\n",
        "@tool\n",
        "def search_tool(query: str, max_results: int = 3) -> str:\n",
        "    \"\"\"\n",
        "    Perform a search query using the Tavily search tool to retrieve information.\n",
        "\n",
        "    This function utilizes the Tavily search tool to perform a web search\n",
        "    for the given query and returns the results. It is useful for answering\n",
        "    questions or retrieving information from the web.\n",
        "\n",
        "    Args:\n",
        "        query: The search query string to be executed.\n",
        "        max_results: The maximum number of search results\n",
        "            to retrieve. Defaults to 3.\n",
        "\n",
        "    Returns:\n",
        "        str: A string containing the search results. If an error occurs during\n",
        "            the search, an error message is returned instead.\n",
        "\n",
        "    Raises:\n",
        "        Exception: If there is an issue with the Tavily search tool invocation.\n",
        "\n",
        "    Example:\n",
        "        >>> search_tool(\"Who won the last match between Pakistan and Zimbabwe?\")\n",
        "        'Pakistan won the last match by 5 wickets.'\n",
        "    \"\"\"\n",
        "    print(\"In search\")\n",
        "    tavily_search = TavilySearchResults(max_results=max_results)\n",
        "    try:\n",
        "        return tavily_search.invoke(query)\n",
        "    except Exception as e:\n",
        "        return f\"Error performing search: {e}\"\n",
        "\n",
        "\n",
        "\n",
        "# Fetches document score\n",
        "def scoreDocuments(docs, query, embedding_model, threshold=0.7):\n",
        "    \"\"\"\n",
        "    Scores the relevance of documents to the query using cosine similarity.\n",
        "\n",
        "    Args:\n",
        "        docs: List of retrieved documents.\n",
        "        query: The user query.\n",
        "        embedding_model: Instance of HuggingFaceEmbeddings for generating embeddings.\n",
        "        threshold: Minimum relevance score to consider documents relevant.\n",
        "\n",
        "    Returns:\n",
        "        bool: Whether the documents are relevant based on the threshold.\n",
        "        list: List of relevance scores.\n",
        "    \"\"\"\n",
        "    query_embedding = embedding_model.embed_query(query)\n",
        "    doc_embeddings = [embedding_model.embed_query(doc.page_content) for doc in docs]\n",
        "    scores = [cosine_similarity([query_embedding], [doc_embedding])[0][0] for doc_embedding in doc_embeddings]\n",
        "    is_relevant = all(score >= threshold for score in scores)\n",
        "    return is_relevant, scores\n",
        "\n",
        "\n",
        "# Augments the prompt\n",
        "def augmentPrompt(context: str, query: str) -> str:\n",
        "    \"\"\"\n",
        "    Combines the system-level prompt with the user's query and the relevant document context.\n",
        "\n",
        "    Args:\n",
        "        context: The retrieved document context for the query.\n",
        "        query: The user's original query.\n",
        "\n",
        "    Returns:\n",
        "        str: The full prompt for the LLM, including system instructions and query context.\n",
        "    \"\"\"\n",
        "    prompt = f\"\"\"\n",
        "    {SYS_PROMPT}\n",
        "\n",
        "    The user asked: {query}\n",
        "\n",
        "    The relevant context is:\n",
        "\n",
        "    {context}\n",
        "    \"\"\"\n",
        "\n",
        "    return prompt\n",
        "\n",
        "\n",
        "# Doc-query tool\n",
        "@tool\n",
        "def doc_query_tool(query: str):\n",
        "    \"\"\"\n",
        "    Fetches relevant context from Pinecone, scores relevance, and handles query refinement if needed.\n",
        "    Invokes the Groq LLM for generating responses.\n",
        "\n",
        "    Args:\n",
        "        query: The user's query.\n",
        "\n",
        "    Returns:\n",
        "        str: The response generated by the LLM based on the provided or refined query.\n",
        "    \"\"\"\n",
        "    print(\"In doc_query\")\n",
        "    retriever = vector_store.as_retriever(search_kwargs={\"k\": 3})\n",
        "    retrieved_docs = retriever.get_relevant_documents(query)\n",
        "\n",
        "    # Score documents for relevance\n",
        "    is_relevant, scores = scoreDocuments(retrieved_docs, query, embedding_model, threshold=0.5)\n",
        "    if is_relevant:\n",
        "        print(\"In is_relevant\")\n",
        "        # Generate prompt with relevant context\n",
        "        context = ''.join(f'## Chunk {i}:\\n\\n{doc.page_content}\\n\\n' for i, doc in enumerate(retrieved_docs))\n",
        "        prompt = augmentPrompt(context, query)\n",
        "        response = llm.invoke([HumanMessage(content=prompt)])\n",
        "        if context:\n",
        "            print(\"\\n\\n========== RESPONSE GENERATED WITH RELEVANT CONTEXT =================\\n\\n\")\n",
        "            print(f\"context = {context}\")\n",
        "        return response\n",
        "    else:\n",
        "        # Rewrite the query using the LLM\n",
        "        print(\"In query rewrite\")\n",
        "        chat_model = ChatGroq(temperature=0, model_name=\"mixtral-8x7b-32768\", api_key=os.environ['GROQ_API_KEY'])\n",
        "        rewrite_msg = [\n",
        "            HumanMessage(\n",
        "                content=f\"\"\" \\n\n",
        "                Look at the input and try to reason about the underlying semantic intent/meaning. \\n\n",
        "                Here is the initial question:\n",
        "                \\n ------- \\n\n",
        "                {query}\n",
        "                \\n ------- \\n\n",
        "                Formulate an improved question: \"\"\",\n",
        "            )\n",
        "        ]\n",
        "        rewritten_query = chat_model.invoke(rewrite_msg)\n",
        "\n",
        "        # # Fetch documents again with the rewritten query\n",
        "        new_retrieved_docs = retriever.get_relevant_documents(rewritten_query.content)\n",
        "\n",
        "        # Generate prompt with the new context\n",
        "        new_context = ''.join(f'## Chunk {i}:\\n\\n{doc.page_content}\\n\\n' for i, doc in enumerate(new_retrieved_docs))\n",
        "        new_prompt = augmentPrompt(new_context, rewritten_query.content)\n",
        "        response = llm.invoke([HumanMessage(content=new_prompt)])\n",
        "        if new_context:\n",
        "            print(\"\\n\\n========== RESPONSE GENERATED WITH QUERY REWRITE & NEW CONTEXT =================\\n\\n\")\n",
        "            print(f\"new_context = {new_context}\")\n",
        "        return response\n",
        "\n",
        "@tool\n",
        "def general_answer_tool(query: str):\n",
        "    \"\"\"Tool for handling non-specific queries (e.g., facts or definitions).\"\"\"\n",
        "    print(\"In general\")\n",
        "    response = llm.invoke([HumanMessage(content=f\"Answer the following general query: {query}\")])\n",
        "    return response"
      ]
    },
    {
      "cell_type": "markdown",
      "source": [
        "### LangGraph and Nodes/Agents setup"
      ],
      "metadata": {
        "id": "ogLLyzTD5Q-c"
      }
    },
    {
      "cell_type": "code",
      "execution_count": null,
      "metadata": {
        "id": "w32WdrpCj4rB"
      },
      "outputs": [],
      "source": [
        "members = ['doc_query', 'tavilysearch', 'general']\n",
        "options = members + [\"FINISH\"]\n",
        "\n",
        "system_prompt = \"\"\"\n",
        "You are a supervisor tasked with managing a conversation between the following workers: {members}.\n",
        "Given the following user request, respond with the worker to act next.\n",
        "Each worker will perform a task and respond with their results and status.\n",
        "When finished, respond with FINISH.\n",
        "\"\"\"\n",
        "\n",
        "class Router(TypedDict):\n",
        "    next: Literal['doc_query', 'tavilysearch', 'general', \"FINISH\"]\n",
        "\n",
        "llm = ChatGroq(temperature=0, model_name=\"mixtral-8x7b-32768\", api_key=os.environ['GROQ_API_KEY'])\n",
        "\n",
        "prompt = ChatPromptTemplate.from_messages(\n",
        "    [\n",
        "        (\"system\", system_prompt),\n",
        "        MessagesPlaceholder(variable_name=\"messages\"),\n",
        "        (\n",
        "            \"system\",\n",
        "            \"Given the conversation above, who should act next?\"\n",
        "            \" Or should we FINISH? Select one of: {options}\",\n",
        "        ),\n",
        "    ]\n",
        ").partial(options=options, members=\", \".join(members))\n",
        "\n",
        "\n",
        "# Supervisor Node Setup\n",
        "def supervisor_node(state: MessagesState) -> Command[Literal['doc_query', 'tavilysearch', 'general', \"__end__\"]]:\n",
        "    messages = [{\"role\": \"system\", \"content\": system_prompt}] + state[\"messages\"]\n",
        "    # print(messages)\n",
        "    response = llm.with_structured_output(Router).invoke(messages)\n",
        "    # print(response)\n",
        "    goto = response[\"next\"]\n",
        "    if goto == \"FINISH\":\n",
        "        goto = END\n",
        "    return Command(goto=goto)\n",
        "\n",
        "# Agents Setup\n",
        "# Math Agent\n",
        "math_agent = create_react_agent(llm,\n",
        "                                tools=[multiply, add, subtract, divide, exponentiate],\n",
        "                                state_modifier=\"You will ONLY DO math.\")\n",
        "\n",
        "def math_node(state: MessagesState) -> Command[Literal[\"supervisor\"]]:\n",
        "    result = math_agent.invoke(state)\n",
        "    return Command(\n",
        "        update={\"messages\": [HumanMessage(content=result[\"messages\"][-1].content, name=\"math\")]},\n",
        "        goto=\"supervisor\",\n",
        "    )\n",
        "\n",
        "# Search Agent\n",
        "search_agent = create_react_agent(llm,\n",
        "                                  tools=[search_tool],\n",
        "                                  state_modifier=\"You are a researcher. DO NOT do any math.\")\n",
        "\n",
        "def search_node(state: MessagesState) -> Command[Literal[\"supervisor\"]]:\n",
        "    result = search_agent.invoke(state)\n",
        "    return Command(\n",
        "        update={\"messages\": [HumanMessage(content=result[\"messages\"][-1].content, name=\"tavilysearch\")]},\n",
        "        goto=\"supervisor\",\n",
        "    )\n",
        "\n",
        "# Document Query Agent\n",
        "doc_query_agent = create_react_agent(llm,\n",
        "                                     tools=[doc_query_tool],\n",
        "                                     state_modifier=\"You will only look into retreived documents for answer. DO NOT search on internet.\")\n",
        "\n",
        "def doc_query_node(state: MessagesState) -> Command[Literal[\"supervisor\"]]:\n",
        "    result = doc_query_agent.invoke(state)\n",
        "    return Command(\n",
        "        update={\"messages\": [HumanMessage(content=result[\"messages\"][-1].content, name=\"doc_query\")]},\n",
        "        goto=\"supervisor\",\n",
        "    )\n",
        "\n",
        "# # General Answer Agent\n",
        "general_agent = create_react_agent(llm,\n",
        "                                   tools=[general_answer_tool],\n",
        "                                   state_modifier=\"You will ONLY GIVE answer to the query if no else tool can give an answer. DO NOT do math.\")\n",
        "\n",
        "def general_node(state: MessagesState) -> Command[Literal[\"supervisor\"]]:\n",
        "    result = general_agent.invoke(state)\n",
        "    return Command(\n",
        "        update={\"messages\": [HumanMessage(content=result[\"messages\"][-1].content, name=\"general\")]},\n",
        "        goto=\"supervisor\",\n",
        "    )\n",
        "\n",
        "# Build the StateGraph\n",
        "builder = StateGraph(MessagesState)\n",
        "builder.add_edge(START, \"supervisor\")\n",
        "builder.add_node(\"supervisor\", supervisor_node)\n",
        "# builder.add_node(\"math\", math_node)\n",
        "builder.add_node(\"tavilysearch\", search_node)\n",
        "builder.add_node(\"doc_query\", doc_query_node)\n",
        "builder.add_node(\"general\", general_node)\n",
        "# builder.add_edge(\"supervisor\", END)\n",
        "graph = builder.compile()"
      ]
    },
    {
      "cell_type": "code",
      "execution_count": null,
      "metadata": {
        "id": "qX-FQe8b3VvL",
        "outputId": "3dc95d52-b7bd-4ee2-bef7-efd9af737d72"
      },
      "outputs": [
        {
          "data": {
            "image/png": "[encoded data removed]",
            "text/plain": [
              "<IPython.core.display.Image object>"
            ]
          },
          "metadata": {},
          "output_type": "display_data"
        }
      ],
      "source": [
        "display(Image(graph.get_graph().draw_mermaid_png()))"
      ]
    },
    {
      "cell_type": "markdown",
      "source": [
        "### Queries from json file"
      ],
      "metadata": {
        "id": "mXyKPrFK5ZFO"
      }
    },
    {
      "cell_type": "code",
      "execution_count": null,
      "metadata": {
        "id": "TOJBhoyW3VvL",
        "outputId": "94056817-510b-4b1b-8af4-bdccdcf904f2"
      },
      "outputs": [
        {
          "name": "stdout",
          "output_type": "stream",
          "text": [
            "================================\u001b[1m Human Message \u001b[0m=================================\n",
            "\n",
            "What services does NETSOL provide?\n",
            "In doc_query\n",
            "In is_relevant\n",
            "context = ## Chunk 0:\n",
            "\n",
            "NETSOL Technologies Limited NETSOL Technologies Limited\n",
            "\n",
            "## Chunk 1:\n",
            "\n",
            "NETSOL Technologies Limited NETSOL Technologies Limited\n",
            "\n",
            "## Chunk 2:\n",
            "\n",
            "NETSOL Technologies Limited\n",
            "\n",
            "\n",
            "================================\u001b[1m Human Message \u001b[0m=================================\n",
            "Name: doc_query\n",
            "\n",
            "NETSOL is a leading global provider of mission-critical leasing and finance software solutions. Their primary service offerings include LeasePak, a comprehensive lease and finance software solution for lessors and finance companies; NFS Ascent, a cloud-based platform for the global finance and leasing industry; NFS Agile, a flexible, end-to-end contract lifecycle management solution; and NFS Adapt, a customizable, modular solution for the finance and leasing industry.\n",
            "\n",
            "Their services cater to various business segments, including Automotive Finance & Leasing, Equipment Finance & Leasing, Consumer Finance, Vendor Finance, and Commercial Finance.\n",
            "\n",
            "NETSOL's mission statement is \"To be the leading global provider of business enabling software solutions to the finance and leasing industry,\" and their vision statement is \"To empower businesses with innovative software solutions that drive growth, efficiency, and profitability.\"\n",
            "\n",
            "Founded in 1997, NETSOL has established itself as a prominent player in the finance and leasing software industry, expanding its operations to over 60 countries, serving more than 200 clients worldwide.\n",
            "\n",
            "Notable events or milestones include the successful implementation of their NFS Ascent platform for a major European bank in 2020 and securing a multi-million dollar contract with a leading Chinese bank for their LeasePak software in 2019.\n",
            "\n",
            "Please note that financial data points, visualizations, and key financial terms were not provided in the document excerpt. For a comprehensive understanding of the company's financial performance and other related information, I recommend reviewing the entire document.\n"
          ]
        }
      ],
      "source": [
        "# inputs = {\"messages\": [(\"human\", \"What's the sum of 5 and 10\")]}\n",
        "# inputs = {'messages': [('human', \"What is the vision of NETSOL Technologies Limited?\")]}\n",
        "# inputs = {'messages': [('human', \"What are the main certifications achieved by NETSOL?\")]}\n",
        "# inputs = {'messages': [('human', \"What are the core products offered by NETSOL?\")]}\n",
        "inputs = {'messages': [('human', \"What services does NETSOL provide?\")]}\n",
        "# inputs = {'messages': [('human', \"What is Project Optimus at NETSOL?\")]}\n",
        "# inputs = {'messages': [('human', \"Who is the Chairman of NETSOL Technologies?\")]}\n",
        "# inputs = {'messages': [('human', \"Which new product developed by NETSOL targets the digital auto retail market?\")]}\n",
        "# inputs = {'messages': [('human', \"What awards has NETSOL Technologies won?\")]}\n",
        "# inputs = {'messages': [('human', \"Which regions does NETSOL primarily focus its marketing efforts?\")]}\n",
        "# inputs = {'messages': [('human', \"What is the proposed cash dividend for the fiscal year 2023-2024?\")]}\n",
        "# inputs = {'messages': [('human', \"What is the total revenue from contracts for 2024?\")]}\n",
        "# inputs = {'messages': [('human', \"What is the main purpose of Appex Now?\")]}\n",
        "# inputs = {'messages': [('human', \"What is the employee-related expenditure for 2024?\")]}\n",
        "# inputs = {'messages': [('human', \"What is the location of NETSOL's registered office?\")]}\n",
        "# inputs = {'messages': [('human', \"What is the gross profit margin for 2024?\")]}\n",
        "# inputs = {'messages': [('human', \"What initiative has NETSOL taken for sustainability?\")]}\n",
        "# inputs = {'messages': [('human', \"Which event marked the success of NETSOL's Otoz platform?\")]}\n",
        "# inputs = {'messages': [('human', \"How many employees does NETSOL focus on retaining after restructuring?\")]}\n",
        "# inputs = {'messages': [('human', \"What are the main objectives outlined in NETSOL's mission statement?\")]}\n",
        "# inputs = {'messages': [('human', \"What is the importance of NETSOL's AI focus in 2024?\")]}\n",
        "# inputs = {'messages': [('human', \"Who won the first T20 match between Pakistan and Zimbabwe?\")]}\n",
        "# inputs = {'messages': [('human', \"Is Pat Gelsinger the CEO of Intel?\")]}\n",
        "\n",
        "\n",
        "async for chunk in graph.astream(inputs, stream_mode=\"values\"):\n",
        "    chunk[\"messages\"][-1].pretty_print()"
      ]
    },
    {
      "cell_type": "code",
      "execution_count": null,
      "metadata": {
        "id": "owfjGLeK3VvL",
        "outputId": "d3c34c09-5389-4fa7-ca17-94095c65d6b2"
      },
      "outputs": [
        {
          "data": {
            "text/plain": [
              "{'messages': [HumanMessage(content='What services does NETSOL provide?', additional_kwargs={}, response_metadata={}, id='6fdd63e1-e923-4e00-9007-5f6366b81017'),\n",
              "  HumanMessage(content='NETSOL is a leading global provider of mission-critical leasing and finance software solutions. Their primary service offerings include LeasePak, a comprehensive lease and finance software solution for lessors and finance companies; NFS Ascent, a cloud-based platform for the global finance and leasing industry; NFS Agile, a flexible, end-to-end contract lifecycle management solution; and NFS Adapt, a customizable, modular solution for the finance and leasing industry.\\n\\nTheir services cater to various business segments, including Automotive Finance & Leasing, Equipment Finance & Leasing, Consumer Finance, Vendor Finance, and Commercial Finance.\\n\\nNETSOL\\'s mission statement is \"To be the leading global provider of business enabling software solutions to the finance and leasing industry,\" and their vision statement is \"To empower businesses with innovative software solutions that drive growth, efficiency, and profitability.\"\\n\\nFounded in 1997, NETSOL has established itself as a prominent player in the finance and leasing software industry, expanding its operations to over 60 countries, serving more than 200 clients worldwide.\\n\\nNotable events or milestones include the successful implementation of their NFS Ascent platform for a major European bank in 2020 and securing a multi-million dollar contract with a leading Chinese bank for their LeasePak software in 2019.\\n\\nPlease note that financial data points, visualizations, and key financial terms were not provided in the document excerpt. For a comprehensive understanding of the company\\'s financial performance and other related information, I recommend reviewing the entire document.', additional_kwargs={}, response_metadata={}, name='doc_query', id='acde8eb9-ef1d-4183-b73e-03c17f7f0f68')]}"
            ]
          },
          "execution_count": 233,
          "metadata": {},
          "output_type": "execute_result"
        }
      ],
      "source": [
        "chunk"
      ]
    },
    {
      "cell_type": "code",
      "execution_count": null,
      "metadata": {
        "id": "VnEeHKob3VvL",
        "outputId": "3fbfb360-b0a2-4cec-da58-f7b05529f6bf"
      },
      "outputs": [
        {
          "name": "stdout",
          "output_type": "stream",
          "text": [
            "((), {'supervisor': None})\n",
            "----\n",
            "In doc_query\n",
            "(('doc_query:735330e7-7fd2-6f43-910c-93fbf0bf478e',), {'agent': {'messages': [AIMessage(content='', additional_kwargs={'tool_calls': [{'id': 'call_1k5e', 'function': {'arguments': '{\"query\":\"What is Project Optimus at NETSOL?\"}', 'name': 'doc_query_tool'}, 'type': 'function'}]}, response_metadata={'token_usage': {'completion_tokens': 99, 'prompt_tokens': 1258, 'total_tokens': 1357, 'completion_time': 0.156538083, 'prompt_time': 0.068276606, 'queue_time': 0.00128548299999999, 'total_time': 0.224814689}, 'model_name': 'mixtral-8x7b-32768', 'system_fingerprint': 'fp_c5f20b5bb1', 'finish_reason': 'tool_calls', 'logprobs': None}, id='run-35d535c2-b4e4-4e4d-8fe5-fa6c9ece1926-0', tool_calls=[{'name': 'doc_query_tool', 'args': {'query': 'What is Project Optimus at NETSOL?'}, 'id': 'call_1k5e', 'type': 'tool_call'}], usage_metadata={'input_tokens': 1258, 'output_tokens': 99, 'total_tokens': 1357})]}})\n",
            "----\n",
            "In is_relevant\n",
            "(('doc_query:735330e7-7fd2-6f43-910c-93fbf0bf478e',), {'tools': {'messages': [ToolMessage(content='content=\"Based on the provided content, Project Optimus at NETSOL is an initiative focused on enhancing the company\\'s internal software development processes. By utilizing advanced AI technologies, Project Optimus aims to drive innovation and optimize these processes, making them more efficient and effective.\" additional_kwargs={} response_metadata={\\'token_usage\\': {\\'completion_tokens\\': 56, \\'prompt_tokens\\': 509, \\'total_tokens\\': 565, \\'completion_time\\': 0.08783575, \\'prompt_time\\': 0.026014771, \\'queue_time\\': 0.000969229000000002, \\'total_time\\': 0.113850521}, \\'model_name\\': \\'mixtral-8x7b-32768\\', \\'system_fingerprint\\': \\'fp_c5f20b5bb1\\', \\'finish_reason\\': \\'stop\\', \\'logprobs\\': None} id=\\'run-026888ab-a0f3-49d8-9e27-a2f4a614f955-0\\' usage_metadata={\\'input_tokens\\': 509, \\'output_tokens\\': 56, \\'total_tokens\\': 565}', name='doc_query_tool', id='9f1c0eb4-8e3c-4b4a-adb1-6fcf6a2a0263', tool_call_id='call_1k5e')]}})\n",
            "----\n",
            "(('doc_query:735330e7-7fd2-6f43-910c-93fbf0bf478e',), {'agent': {'messages': [AIMessage(content=\"Based on the provided information, Project Optimus at NETSOL is an initiative focused on enhancing the company's internal software development processes. By utilizing advanced AI technologies, Project Optimus aims to drive innovation and optimize these processes, making them more efficient and effective.\", additional_kwargs={}, response_metadata={'token_usage': {'completion_tokens': 56, 'prompt_tokens': 1656, 'total_tokens': 1712, 'completion_time': 0.088469858, 'prompt_time': 0.140002753, 'queue_time': 0.0016405969999999936, 'total_time': 0.228472611}, 'model_name': 'mixtral-8x7b-32768', 'system_fingerprint': 'fp_c5f20b5bb1', 'finish_reason': 'stop', 'logprobs': None}, id='run-a6e0ce05-e69e-43f3-8b5a-f14545077a11-0', usage_metadata={'input_tokens': 1656, 'output_tokens': 56, 'total_tokens': 1712})]}})\n",
            "----\n",
            "((), {'doc_query': {'messages': [HumanMessage(content=\"Based on the provided information, Project Optimus at NETSOL is an initiative focused on enhancing the company's internal software development processes. By utilizing advanced AI technologies, Project Optimus aims to drive innovation and optimize these processes, making them more efficient and effective.\", additional_kwargs={}, response_metadata={}, name='doc_query')]}})\n",
            "----\n",
            "((), {'supervisor': None})\n",
            "----\n",
            "In doc_query\n",
            "(('doc_query:9882f0eb-117b-87ed-b505-064bbc4bdec3',), {'agent': {'messages': [AIMessage(content='', additional_kwargs={'tool_calls': [{'id': 'call_05se', 'function': {'arguments': '{\"query\":\"What is Project Optimus at NETSOL?\"}', 'name': 'doc_query_tool'}, 'type': 'function'}]}, response_metadata={'token_usage': {'completion_tokens': 99, 'prompt_tokens': 1321, 'total_tokens': 1420, 'completion_time': 0.15720485, 'prompt_time': 0.125336618, 'queue_time': 0.0010430309999999998, 'total_time': 0.282541468}, 'model_name': 'mixtral-8x7b-32768', 'system_fingerprint': 'fp_c5f20b5bb1', 'finish_reason': 'tool_calls', 'logprobs': None}, id='run-bf02d2ba-8cc7-4ca8-9b89-7616ad3827a4-0', tool_calls=[{'name': 'doc_query_tool', 'args': {'query': 'What is Project Optimus at NETSOL?'}, 'id': 'call_05se', 'type': 'tool_call'}], usage_metadata={'input_tokens': 1321, 'output_tokens': 99, 'total_tokens': 1420})]}})\n",
            "----\n",
            "In is_relevant\n",
            "(('doc_query:9882f0eb-117b-87ed-b505-064bbc4bdec3',), {'tools': {'messages': [ToolMessage(content='content=\"Based on the provided content, Project Optimus at NETSOL is an initiative focused on enhancing the company\\'s internal software development processes. By utilizing advanced AI technologies, Project Optimus aims to drive innovation and optimize these processes, making them more efficient and effective.\" additional_kwargs={} response_metadata={\\'token_usage\\': {\\'completion_tokens\\': 56, \\'prompt_tokens\\': 509, \\'total_tokens\\': 565, \\'completion_time\\': 0.087543366, \\'prompt_time\\': 0.028072279, \\'queue_time\\': 0.0009277810000000025, \\'total_time\\': 0.115615645}, \\'model_name\\': \\'mixtral-8x7b-32768\\', \\'system_fingerprint\\': \\'fp_c5f20b5bb1\\', \\'finish_reason\\': \\'stop\\', \\'logprobs\\': None} id=\\'run-064f6b83-1ad7-4a45-afb3-d2d8650927e1-0\\' usage_metadata={\\'input_tokens\\': 509, \\'output_tokens\\': 56, \\'total_tokens\\': 565}', name='doc_query_tool', id='b7fa4ae4-b754-41f0-b792-31b52c209444', tool_call_id='call_05se')]}})\n",
            "----\n",
            "(('doc_query:9882f0eb-117b-87ed-b505-064bbc4bdec3',), {'agent': {'messages': [AIMessage(content=\"Based on the provided information, Project Optimus at NETSOL is an initiative focused on enhancing the company's internal software development processes. By utilizing advanced AI technologies, Project Optimus aims to drive innovation and optimize these processes, making them more efficient and effective.\", additional_kwargs={}, response_metadata={'token_usage': {'completion_tokens': 56, 'prompt_tokens': 1718, 'total_tokens': 1774, 'completion_time': 0.087724957, 'prompt_time': 0.07393976, 'queue_time': 0.0012609090000000045, 'total_time': 0.161664717}, 'model_name': 'mixtral-8x7b-32768', 'system_fingerprint': 'fp_c5f20b5bb1', 'finish_reason': 'stop', 'logprobs': None}, id='run-2c690858-f8e6-40e5-a4f2-be6d3d9ac36b-0', usage_metadata={'input_tokens': 1718, 'output_tokens': 56, 'total_tokens': 1774})]}})\n",
            "----\n",
            "((), {'doc_query': {'messages': [HumanMessage(content=\"Based on the provided information, Project Optimus at NETSOL is an initiative focused on enhancing the company's internal software development processes. By utilizing advanced AI technologies, Project Optimus aims to drive innovation and optimize these processes, making them more efficient and effective.\", additional_kwargs={}, response_metadata={}, name='doc_query')]}})\n",
            "----\n",
            "((), {'supervisor': None})\n",
            "----\n"
          ]
        }
      ],
      "source": [
        "inputs = {\"messages\": [('human', \"What is Project Optimus at NETSOL?\")]}\n",
        "for s in graph.stream(inputs, subgraphs=True):\n",
        "    print(s)\n",
        "    print(\"----\")"
      ]
    },
    {
      "cell_type": "markdown",
      "source": [
        "### Preparation of evaluation data for RAGAS"
      ],
      "metadata": {
        "id": "Hsf8vMo55iyE"
      }
    },
    {
      "cell_type": "code",
      "execution_count": null,
      "metadata": {
        "id": "uQ2OW5Dy3VvL"
      },
      "outputs": [],
      "source": [
        "# Load llm answered data\n",
        "with open(\"qa-answers-formatted.json\", \"r\", encoding=\"utf-8\") as file:\n",
        "    qa_data_llm = json.load(file)\n",
        "\n",
        "# Load the ground truth data\n",
        "with open(\"qa-copy.json\", \"r\", encoding=\"utf-8\") as file:\n",
        "    qa_data_gt = json.load(file)\n",
        "\n",
        "answered_data_map = {entry[\"question\"]: {\"answer\": entry[\"answer\"], \"context\": entry[\"context\"]} for entry in qa_data_llm}\n",
        "\n",
        "evaluation_data = []\n",
        "for entry in qa_data_gt:\n",
        "    print(f\"Processing question: {entry['question']}\")\n",
        "    try:\n",
        "        answered_entry = answered_data_map.get(entry[\"question\"])\n",
        "\n",
        "        if answered_entry:\n",
        "            if isinstance(answered_entry[\"context\"], dict):\n",
        "                # Convert dictionary values into a single string\n",
        "                contexts = \" | \".join([str(v) for v in answered_entry[\"context\"].values()])\n",
        "            else:\n",
        "                contexts = answered_entry[\"context\"]\n",
        "\n",
        "            evaluation_data.append({\n",
        "                \"question\": entry[\"question\"],\n",
        "                \"ground_truth\": entry[\"answer\"],\n",
        "                \"answer\": answered_entry[\"answer\"],\n",
        "                \"retrieved_contexts\": [contexts]\n",
        "            })\n",
        "        else:\n",
        "            print(f\"No matching answer found for question: {entry['question']}\")\n",
        "    except Exception as e:\n",
        "        print(f\"Error processing question: {entry['question']} - {e}\")\n",
        "\n",
        "print(f\"Prepared {len(evaluation_data)} evaluation entries.\")\n"
      ]
    },
    {
      "cell_type": "code",
      "execution_count": null,
      "metadata": {
        "id": "rlWsdI8G3VvM",
        "outputId": "f33f0b60-dc5e-44c8-ae88-8d9818893a9e"
      },
      "outputs": [
        {
          "data": {
            "text/plain": [
              "[{'question': 'What is the vision of NETSOL Technologies Limited?',\n",
              "  'ground_truth': 'To become the leading and world-class provider of IT solutions and services in each market of operations by leveraging global positioning, creating strong growth potential, increasing shareholder value, and providing a great environment for employees.',\n",
              "  'answer': \"Based on the information provided, the vision of NETSOL Technologies Limited is not explicitly stated. However, the company's mission statement is to be the world's leading provider of business services and solutions to the asset finance and leasing industry. It can be inferred that the company aspires to be a global leader in providing business services and solutions to the asset finance and leasing industry, leveraging its cutting-edge technology and domain expertise.\",\n",
              "  'retrieved_contexts': ['NETSOL Technologies Limited | NETSOL Technologies Limited | NETSOL Technologies Limited NETSOL Technologies Limited']},\n",
              " {'question': 'What are the main certifications achieved by NETSOL?',\n",
              "  'ground_truth': 'NETSOL has been audited for ISO 27001, ISO 20000, and ISO 9001 certifications and achieved SOC 2 Type 2 compliance.',\n",
              "  'answer': 'NETSOL Technologies Limited has achieved the following certifications: ISO 27001:2013 Certification, ISO 9001:2015 Certification, and PCI DSS Compliance. These certifications demonstrate their commitment to maintaining high standards of information security, quality management, and payment card data security.',\n",
              "  'retrieved_contexts': ['']},\n",
              " {'question': 'What are the core products offered by NETSOL?',\n",
              "  'ground_truth': 'The core products are Ascent (a platform for asset finance and leasing), NFS Digital (digital finance ecosystem), and Appex Now (API-first marketplace for finance and leasing).',\n",
              "  'answer': \"The core products offered by NETSOL are lease and finance software solutions. These solutions are designed to help businesses manage their leasing and financing operations more efficiently. Some of the specific products offered by NETSOL include NFS Ascent, NFS Agile, NFS Contracts, NFS Portfolio, and NFS Risk. These products provide features such as end-to-end support for the lease lifecycle, contract management, portfolio management, and risk management. Overall, NETSOL's products are designed to help businesses manage their lease and finance operations more effectively, efficiently, and profitably.\",\n",
              "  'retrieved_contexts': ['']},\n",
              " {'question': 'What services does NETSOL provide?',\n",
              "  'ground_truth': 'NETSOL provides professional services, cloud services, AI solutions, IT consulting, application development and maintenance, business process outsourcing, and more.',\n",
              "  'answer': 'NETSOL provides mission-critical leasing and finance software solutions. Their primary service offerings include:\\n\\n1. **LeasePak**: A comprehensive lease and finance software solution for lessors and finance companies.\\n2. **NFS Ascent**: A cloud-based platform for the global finance and leasing industry.\\n3. **NFS Agile**: A flexible, end-to-end contract lifecycle management solution.\\n4. **NFS Adapt**: A customizable, modular solution for the finance and leasing industry.\\n\\nThese services cater to various business segments, including:\\n- Automotive Finance & Leasing\\n- Equipment Finance & Leasing\\n- Consumer Finance\\n- Vendor Finance\\n- Commercial Finance\\n\\nNETSOL\\'s mission statement is: \"To be the leading global provider of business enabling software solutions to the finance and leasing industry.\" Their vision statement is: \"To empower businesses with innovative software solutions that drive growth, efficiency, and profitability.\"\\n\\nFounded in 1997, NETSOL has established itself as a prominent player in the finance and leasing software industry, expanding its operations to over 60 countries and serving more than 200 clients worldwide. Notable achievements include:\\n- The successful implementation of the NFS Ascent platform for a major European bank in 2020.\\n- Securing a multi-million dollar contract with a leading Chinese bank for its LeasePak software in 2019.',\n",
              "  'retrieved_contexts': ['NETSOL Technologies Limited NETSOL Technologies Limited | NETSOL Technologies Limited NETSOL Technologies Limited | NETSOL Technologies Limited']},\n",
              " {'question': 'What is Project Optimus at NETSOL?',\n",
              "  'ground_truth': \"Project Optimus is NETSOL's initiative to develop advanced AI solutions to enhance internal software development processes and drive innovation.\",\n",
              "  'answer': \"Based on the provided information, Project Optimus at NETSOL is an initiative focused on enhancing the company's internal software development processes. By utilizing advanced AI technologies, Project Optimus aims to drive innovation and optimize these processes, making them more efficient and effective.\",\n",
              "  'retrieved_contexts': ['engineers are singularly focused on developing cutting-edge AI solutions. Project Optimus is designed to enhance our internal software development processes, making them more efficient and effective. By harnessing advanced AI technologies, we aim to drive innovation and optimize. | NETSOL Technologies Limited | NETSOL Technologies Limited']},\n",
              " {'question': 'Who is the Chairman of NETSOL Technologies?',\n",
              "  'ground_truth': 'Naeem Ullah Ghauri is the Chairman of NETSOL Technologies.',\n",
              "  'answer': 'Based on the information provided, the Chairman of NETSOL Technologies is Najeeb Ghauri. He is one of the founding members of the company and has been serving as the Chairman of the Board of Directors since its inception in 1997. Najeeb Ghauri has extensive experience in the IT industry and has played a crucial role in the growth and success of NETSOL Technologies.',\n",
              "  'retrieved_contexts': ['NETSOL Technologies Limited | NETSOL Technologies Limited | NETSOL Technologies Limited NETSOL Technologies Limited']},\n",
              " {'question': 'Which new product developed by NETSOL targets the digital auto retail market?',\n",
              "  'ground_truth': 'Otoz, a fully digital white-label platform for digital auto retail and mobility orchestration.',\n",
              "  'answer': \"Based on the information provided by the tool, there is no explicit statement about a new product developed by NETSOL targeting the digital auto retail market. However, it can be inferred that their digital solutions might be targeting this market given their focus on digital transformation for the global asset finance and leasing industry. The financial highlights, board of directors, senior management, company profile, and other relevant details can be found in the tool's response.\",\n",
              "  'retrieved_contexts': ['benefits of superior digital solutions across various touchpoints which can be integrated with any back-end system. NETSOL takes pride in being the pioneer organization to provide a full suite of digital transformation solutions for the global asset finance and leasing industry. | such the company’s deep industry expertise spanning over four decades and cutting-edge technology, to stay ahead of competition. By forging strategic alliances and investing in next-generation technologies, NETSOL aims to enhance its market positioning and contin- | NETSOL Technologies Limited']},\n",
              " {'question': 'What awards has NETSOL Technologies won?',\n",
              "  'ground_truth': 'NETSOL has won the CSR Gold Award and Gender Diversity Merit Award by P@SHA and the Gold Award for IT Products and Solutions by PSEB.',\n",
              "  'answer': 'NETSOL has won the CSR Gold Award and Gender Diversity Merit Award by P@SHA and the Gold Award for IT Products and Solutions by PSEB.',\n",
              "  'retrieved_contexts': [\"Awards and Recognitions\\nNETSOL Technologies takes pride in being awarded the 'CSR Gold Award' and 'Gender Diversity Merit Award' by P@SHA. | NETSOL Technologies Limited | NETSOL Technologies Limited\"]},\n",
              " {'question': 'Which regions does NETSOL primarily focus its marketing efforts?',\n",
              "  'ground_truth': 'NETSOL focuses its marketing efforts in North America and European regions.',\n",
              "  'answer': \"Based on the information provided by the tool, NETSOL's primary marketing focus regions are not explicitly mentioned. However, the company emphasizes the importance of strategic alliances, next-generation technologies, customer centricity, and understanding the unique needs of its diverse clientele. They also acknowledge competition from both regional and global players in the industry, indicating a broad marketing focus.\",\n",
              "  'retrieved_contexts': ['such the company’s deep industry expertise spanning over four decades and cutting-edge technology, to stay ahead of competition. By forging strategic alliances and investing in next-generation technologies, NETSOL aims to enhance its market positioning and contin- | customer centricity is paramount to achieving sustained success and fostering long-term relationships. Understanding and prioritizing the unique needs, challenges and aspirations of NETSOL’s diverse clientele allows the company to tailor its solutions and services | NETSOL is facing competition from a number of players both on a regional and global level. There are a number of companies that provide technology solutions to the global asset finance and leasing industry as well as provide other services like those offered by']},\n",
              " {'question': 'What is the proposed cash dividend for the fiscal year 2023-2024?',\n",
              "  'ground_truth': 'The proposed cash dividend is 30%, i.e., Rs. 3 per share.',\n",
              "  'answer': 'The proposed cash dividend for the fiscal year 2023-2024 is 30% i.e. Rs. 3 per share.',\n",
              "  'retrieved_contexts': ['The Board of Directors of the Company has proposed a final cash dividend of 30% i.e. Rs. 3 per share for the year ended June 30, 2024 for approval of members at the Annual General Meeting. These financial statements do not include the effect of the above event which will be accounted for in the year in which it is approved. | 389(I)/2023 dated March 21, 2023, the financial statements of the Company can be accessed through the following weblink and QR enabled code: https://www.netsolpk.com/investor-information 2. To declare and approve a final cash dividend of Rs.3/- per share (i.e., @30%) as recommended by | 389(I)/2023 dated March 21, 2023, the financial statements of the Company can be accessed through the following weblink and QR enabled code: https://www.netsolpk.com/investor-information 2. To declare and approve a final cash dividend of Rs.3/- per share (i.e., @30%) as recommended by']},\n",
              " {'question': 'What is the total revenue from contracts for 2024?',\n",
              "  'ground_truth': 'The total revenue from contracts with customers for 2024 is Rs. 9,280,647,000.',\n",
              "  'answer': 'The total revenue from contracts for 2024, as reported by Oracle in their financial results, is $53.0 billion.',\n",
              "  'retrieved_contexts': ['2023\\nRupees in Thousands\\n6. 2.1 Depreciation charge for the year has been allocated as under:\\nCost of revenue\\n30\\n 1,685 \\n 2,004 \\nSelling and promotional expenses\\n31\\n 112 \\n 134 \\nAdministrative expenses\\n32\\n 449 \\n 535 \\n 2,246 \\n 2,673 \\n112\\nNETSOL Technologies Limited\\nNETSOL Technologies Limited | NOTE\\n2024\\n2023\\nRupees in Thousands\\n29. Revenue from Contracts with Customers - Net\\nDisaggregation of revenue from contract with customers\\nSet out below is the disaggregation of the Company’s revenue from contracts with customers:\\nExport Revenue\\n- License\\n 802,390 \\n 374,203 \\n- Services\\n 3,747,438 | The annexed notes from 1 to 50 form an integral part of these financial statements.\\nStatement of Profit or Loss\\nFor the Year Ended June 30, 2024\\nNOTE\\n2024\\n2023\\nRupees in Thousands\\n(Restated)\\nRevenue from contracts with customers - net\\n29\\n 9,280,647 \\n 7,670,181 \\nCost of revenue\\n30\\n (5,116,773)']},\n",
              " {'question': 'What is the main purpose of Appex Now?',\n",
              "  'ground_truth': 'Appex Now serves as a marketplace for the global credit, finance, and leasing industry, offering cloud-based API-first products.',\n",
              "  'answer': 'The main purpose of Appex Now is to serve as the world’s first marketplace for the global credit, finance, and leasing industry. It offers a suite of cloud-based, API-first products that cater to a wide range of needs in the industry. The API-first strategy of Appex Now enhances development efficiency, reduces complexity, and mitigates risk. It has gained traction and is anticipated to generate further client engagements in the coming years. Additionally, Appex Now includes a suite of SaaS-based products that were specifically developed for the global credit, finance, and leasing industry using cloud technologies. In summary, Appex Now is a marketplace for the global credit, finance, and leasing industry that provides a suite of cloud-based, API-first products that cater to a wide range of needs, with the aim of enhancing development efficiency, reducing complexity, and mitigating risk. It has gained traction and is expected to generate further client engagements in the coming years.',\n",
              "  'retrieved_contexts': ['Appex Now is the world’s first marketplace for the global credit, finance and leasing industry, providing a suite of cloud-based API-first products that cater to a broad spectrum of needs. The API-first strategy enhances development efficiency, reduces complexity, mitigates risk and | witness traction and anticipate interest via further client engagements in the coming years. We also foresee continued interest in our suite of API-first, SaaS-based products – Appex Now. These products were developed specifically for the global credit, finance | cloud technologies. This achievement is in recognition of five of NETSOL’s cloud-based, API-first solutions that are part of Appex Now – the company’s marketplace of products designed for the global credit, finance and leasing industry. The technology review was']},\n",
              " {'question': 'What is the employee-related expenditure for 2024?',\n",
              "  'ground_truth': 'The salaries and other employee benefits expenditure for 2024 is Rs. 4,743,031,000.',\n",
              "  'answer': 'Based on the provided document, major categories of employee-related expenses for the company in 2024 include salaries and benefits for administrative purposes, vehicle running expenses for cost of revenue, and salaries and benefits for selling and promotional expenses. However, the actual amounts for the year 2024 are not provided in the document. As a reference, the figures for the available years are:\\n\\n1. Salaries & benefits - Administrative expenses (Note 32):\\n   * 2022: $1,134,230\\n   * 2023: $1,201,567\\n2. Vehicle running expenses - Cost of revenue (Note 30):\\n   * 2022: $226,737\\n   * 2023: $231,128\\n3. Salaries & benefits - Selling & Promotional Expense (Note 31):\\n   * 2022: $12,941\\n   * 2023: $13,586\\n\\nThese figures can give you an idea of the scale and trend of employee-related expenses for the company. For the exact amounts in 2024, you would need to refer to a more recent version of the document or contact the company directly.',\n",
              "  'retrieved_contexts': ['Salaries & benefits - Administrative expenses (Note 32) | 39. Remuneration of Chief Executive, Directors and Executives\\nChief Executive\\nDirectors\\nExecutives\\nTotal\\n2024\\n2023\\n2024\\n2023\\n2024\\n2023\\n2024\\n2023\\nRupees in Thousands\\nManagerial remuneration\\n 27,200 \\n 24,000 \\n 24,000 \\n 21,600 1,589,267 1,803,333 1,640,467 1,848,933 \\nRetirement benefits\\n 2,176 \\n 1,920 | Salaries & benefits - Cost of revenue (Note 30)']},\n",
              " {'question': 'What is the gross profit margin for 2024?',\n",
              "  'ground_truth': 'The gross profit margin for 2024 is 44.87%.',\n",
              "  'answer': 'The gross profit margin for 2024 is projected to be approximately 44.87%. This is based on the provided data and may not accurately represent the actual gross profit margin for 2024.',\n",
              "  'retrieved_contexts': ['2024\\n2023\\n2022\\n2021\\n2020\\n2019\\nWorking Capital\\nRupees in thousand\\n 8,738,419 \\n 7,623,439 \\n 5,942,484 \\n 4,762,877 \\n 4,379,835 \\n 3,739,858 \\nGross Profit\\n%\\n 44.87 \\n 29.49 \\n 34.41 \\n 36.39 \\n 33.26 \\n 38.85 \\nNet Profit Margin\\n%\\n 14.91 \\n 16.76 \\n 14.93 \\n 3.87 \\n 5.20 \\n 23.11 \\nReturn on Equity\\n%\\n 13.10 | GROSS PROFIT \\n 4,163,874 \\n 2,262,164 \\n 2,104,988 \\n 1,800,412 \\n 1,566,044 \\n 2,090,746 \\nOPERATING EXPENSES\\n 2,779,715 \\n 976,930 \\n 1,191,768 \\n 1,608,825 \\n 1,321,204 \\n 847,262 \\nNET PROFIT FOR THE YEAR\\n 1,384,159 \\n 1,285,234 \\n 913,220 \\n 191,587 \\n 244,840 \\n 1,243,484 \\nEARNING PER SHARE\\n 15.76 \\n 14.63 | 88,039 \\n 791,926 \\n 14,262,985 \\n2023\\nUSD\\nRMB\\nEURO\\n Others \\n Total\\nImpact on statement of profit or loss (net of tax)\\nAs at June 30,\\nStrengthening\\n (1,265,358)\\n (2,677,583)\\n (581,744)\\n (1,205,078)\\n (5,729,763)\\nWeakening\\n 1,265,358 \\n 2,677,583 \\n 581,744 \\n 1,205,078 \\n 5,729,763 \\nImpact on equity']},\n",
              " {'question': 'What initiative has NETSOL taken for sustainability?',\n",
              "  'ground_truth': 'NETSOL has implemented energy-efficient data centers, waste reduction programs, and a tree plantation drive for sustainability.',\n",
              "  'answer': \"Based on the information provided by the tool, NETSOL Technologies Inc. is committed to environmental preservation and the adoption of sustainable practices. They aim to achieve a 20% reduction in overall resource consumption by 2025, focusing on sustainable procurement and supply chain management. They also have a 'Save Food' Initiative aimed at reducing waste and promoting responsible practices.\\n\\nNETSOL Water, being a separate entity, is not specifically mentioned in the provided document, but as NETSOL Technologies is committed to environmental preservation and adopting sustainable practices, it is plausible that NETSOL Water shares similar commitments.\\n\\nThe document does mention that NETSOL Technologies is taking a significant step toward renewable energy by implementing solar energy, demonstrating their dedication to supporting the United Nations' goals for affordable and clean energy. However, there is no specific information about NETSOL Water's sustainability initiatives in the provided document.\",\n",
              "  'retrieved_contexts': ['']},\n",
              " {'question': \"Which event marked the success of NETSOL's Otoz platform?\",\n",
              "  'ground_truth': 'The success of the Otoz platform was marked by customer utilization in the United States.',\n",
              "  'answer': \"Based on the information provided by the tool, there is no specific event mentioned in the text that marked the success of NETSOL's Otoz platform. The company's participation in various industry events and strategic alliances suggests a commitment to enhancing its market positioning and investing in next-generation technologies, which likely includes the Otoz platform. To find more specific information about the success of the Otoz platform, I would recommend looking for additional sources or sections within the report that discuss the platform's achievements, milestones, or user adoption rates.\",\n",
              "  'retrieved_contexts': ['In North America, NETSOL was a part of different events in both the United States as well as Canada. In the US, the company was present at the ELFA Operations and Technology Conference, the AFSA Annual Meeting, the ELFA Annual Convention, the Auto Finance Summit and the Open Silicon Valley | such the company’s deep industry expertise spanning over four decades and cutting-edge technology, to stay ahead of competition. By forging strategic alliances and investing in next-generation technologies, NETSOL aims to enhance its market positioning and contin- | NETSOL Technologies Limited']},\n",
              " {'question': 'How many employees does NETSOL focus on retaining after restructuring?',\n",
              "  'ground_truth': 'NETSOL retained its best-performing employees during the restructuring to ensure operational efficiency and maintain quality.',\n",
              "  'answer': 'Based on the provided document, there is no specific information about how many employees NETSOL focuses on retaining after restructuring. However, it is mentioned that the company has been strategically evaluating and reducing costs across all areas of its business. Despite this, the management remains optimistic about the upcoming fiscal year 2024-2025 and anticipates new opportunities to further increase their position in the market.',\n",
              "  'retrieved_contexts': ['strategic initiatives, NETSOL is confident in its ability to sustain growth, provide substantial value to stakeholders and uphold its position as a leading technology provider to the global asset finance and leasing industry. AWARDS AND RECOGNITION NETSOL Technologies takes pride in being | our workforce, but also meticulously evaluating and reducing costs across all areas of our business. As we look ahead, NETSOL’s management is optimistic about the upcoming fiscal year 2024-2025. We anticipate new opportunities to further increase our 22 NETSOL Technologies Limited 22 | such the company’s deep industry expertise spanning over four decades and cutting-edge technology, to stay ahead of competition. By forging strategic alliances and investing in next-generation technologies, NETSOL aims to enhance its market positioning and contin-']},\n",
              " {'question': \"What are the main objectives outlined in NETSOL's mission statement?\",\n",
              "  'ground_truth': 'The objectives are to invest in quality resources, leverage global solutions, enhance shareholder value, focus on market-specific growth, and support capacity building in technology.',\n",
              "  'answer': \"Based on the information provided, NETSOL's mission statement highlights their commitment to delivering superior digital solutions that cater to the varied needs of their global clients. They leverage emerging technologies such as AI, ML, and data analytics to create efficient solutions that enhance user experiences. As a prominent player in the tech industry, NETSOL aims to sustain growth, generate significant value for stakeholders, and uphold its leading position in the asset finance and leasing industry.\",\n",
              "  'retrieved_contexts': ['benefits of superior digital solutions across various touchpoints which can be integrated with any back-end system. NETSOL takes pride in being the pioneer organization to provide a full suite of digital transformation solutions for the global asset finance and leasing industry. | demands of the company’s diverse global client base. NETSOL’s focus includes harnessing emerging technologies, including but not limited to, AI, ML and data analytics, to create solutions that enhance efficiency and elevate user experiences. As a global leader in the provision of tech- | strategic initiatives, NETSOL is confident in its ability to sustain growth, provide substantial value to stakeholders and uphold its position as a leading technology provider to the global asset finance and leasing industry. AWARDS AND RECOGNITION NETSOL Technologies takes pride in being']},\n",
              " {'question': \"What is the importance of NETSOL's AI focus in 2024?\",\n",
              "  'ground_truth': \"NETSOL's focus on AI aims to improve internal efficiencies, provide advanced analytics, and integrate transformative technologies to meet evolving client needs.\",\n",
              "  'answer': \"The importance of NETSOL's AI focus in 2.\",\n",
              "  'retrieved_contexts': ['demands of the company’s diverse global client base. NETSOL’s focus includes harnessing emerging technologies, including but not limited to, AI, ML and data analytics, to create solutions that enhance efficiency and elevate user experiences. As a global leader in the provision of tech- | institutions. However, NETSOL’s services in AI are not limited to financial services, but across various industry verticals. NETSOL is committed to leading the AI revolution. The company is investing heavily in AI research and development to ensure that our solutions not only keep pace with | such the company’s deep industry expertise spanning over four decades and cutting-edge technology, to stay ahead of competition. By forging strategic alliances and investing in next-generation technologies, NETSOL aims to enhance its market positioning and contin-']},\n",
              " {'question': 'who won first t20 match between Pakistan and Zimbabwe?',\n",
              "  'ground_truth': 'Pakistan won by 57 runs',\n",
              "  'answer': 'Pakistan won the first T20 match between Pakistan and Zimbabwe by 57 runs. This victory was registered in Bulawayo, without the presence of Babar Azam and Mohammed Rizwan. The match details are available from various sources, including <https://www.india.com/sports/pak-vs-zim-1st-t20-pakistan-claim-victory-over-zimbabwe-without-babar-azam-and-mohammad-rizwan-7434628/>, <https://www.reuters.com/sports/cricket/pakistan-defeat-zimbabwe-by-57-runs-first-t20-2024-12-01/>, and <https://apnews.com/article/pakistan-zimbabwe-t20-salman-raza-f471a67ec5f3a2694e96750ccef8447e>.',\n",
              "  'retrieved_contexts': ['']},\n",
              " {'question': 'Is Pat Gelsinger the CEO of Intel?',\n",
              "  'ground_truth': 'No, he was recently forced to resign from his position.',\n",
              "  'answer': \"Pat Gelsinger is the current CEO of Intel, a leading global manufacturer of semiconductor chips and other technology products. He has been in this role since February 2021. Prior to becoming CEO, Gelsinger served as Intel's chief technology officer and held various other leadership roles at the company. The Netsol investor relations report does not mention Pat Gelsinger or his role at Intel.\",\n",
              "  'retrieved_contexts': ['']}]"
            ]
          },
          "execution_count": 247,
          "metadata": {},
          "output_type": "execute_result"
        }
      ],
      "source": [
        "evaluation_data"
      ]
    },
    {
      "cell_type": "code",
      "execution_count": null,
      "metadata": {
        "id": "QKRbKqZ-3VvM",
        "outputId": "e0e4ae50-de04-4432-cfaa-3fc9aca9b6a0"
      },
      "outputs": [
        {
          "data": {
            "text/plain": [
              "{'question': 'What is the vision of NETSOL Technologies Limited?',\n",
              " 'ground_truth': 'To become the leading and world-class provider of IT solutions and services in each market of operations by leveraging global positioning, creating strong growth potential, increasing shareholder value, and providing a great environment for employees.',\n",
              " 'answer': \"Based on the information provided, the vision of NETSOL Technologies Limited is not explicitly stated. However, the company's mission statement is to be the world's leading provider of business services and solutions to the asset finance and leasing industry. It can be inferred that the company aspires to be a global leader in providing business services and solutions to the asset finance and leasing industry, leveraging its cutting-edge technology and domain expertise.\",\n",
              " 'retrieved_contexts': ['NETSOL Technologies Limited | NETSOL Technologies Limited | NETSOL Technologies Limited NETSOL Technologies Limited']}"
            ]
          },
          "execution_count": 268,
          "metadata": {},
          "output_type": "execute_result"
        }
      ],
      "source": [
        "evaluation_data[0]"
      ]
    },
    {
      "cell_type": "markdown",
      "source": [
        "### Ragas Metrics Calculation"
      ],
      "metadata": {
        "id": "Wx6PyBWo5027"
      }
    },
    {
      "cell_type": "code",
      "execution_count": null,
      "metadata": {
        "id": "7fXx3XRK3VvM",
        "outputId": "7feeb129-8ca1-47a3-eaa5-e899387e7f5e"
      },
      "outputs": [
        {
          "name": "stdout",
          "output_type": "stream",
          "text": [
            "Dataset({\n",
            "    features: ['question', 'ground_truth', 'answer', 'retrieved_contexts'],\n",
            "    num_rows: 1\n",
            "})\n"
          ]
        }
      ],
      "source": [
        "# Convert the flattened data into a Dataset\n",
        "dataset = Dataset.from_list([evaluation_data[0]])\n",
        "print(dataset)"
      ]
    },
    {
      "cell_type": "code",
      "execution_count": null,
      "metadata": {
        "colab": {
          "base_uri": "https://localhost:8080/"
        },
        "id": "0mwJqYPSNuF6",
        "outputId": "2c0c0357-3c6f-42d6-8c14-2e70f0141483"
      },
      "outputs": [
        {
          "data": {
            "text/plain": [
              "(1, 4)"
            ]
          },
          "execution_count": 270,
          "metadata": {},
          "output_type": "execute_result"
        }
      ],
      "source": [
        "dataset.shape"
      ]
    },
    {
      "cell_type": "code",
      "execution_count": null,
      "metadata": {
        "colab": {
          "base_uri": "https://localhost:8080/",
          "height": 211
        },
        "id": "TbMnt0kgLvSP",
        "outputId": "bf01e056-4e9c-4efc-f3ac-293a51cb557b"
      },
      "outputs": [
        {
          "name": "stderr",
          "output_type": "stream",
          "text": [
            "Evaluating:   0%|          | 0/2 [00:00<?, ?it/s]Exception raised in Job[0]: RateLimitError(Error code: 429 - {'error': {'message': 'You exceeded your current quota, please check your plan and billing details. For more information on this error, read the docs: https://platform.openai.com/docs/guides/error-codes/api-errors.', 'type': 'insufficient_quota', 'param': None, 'code': 'insufficient_quota'}})\n",
            "Evaluating:  50%|█████     | 1/2 [02:17<02:17, 137.26s/it]Exception raised in Job[1]: RateLimitError(Error code: 429 - {'error': {'message': 'You exceeded your current quota, please check your plan and billing details. For more information on this error, read the docs: https://platform.openai.com/docs/guides/error-codes/api-errors.', 'type': 'insufficient_quota', 'param': None, 'code': 'insufficient_quota'}})\n",
            "Evaluating: 100%|██████████| 2/2 [02:47<00:00, 83.87s/it] \n"
          ]
        }
      ],
      "source": [
        "metrics = [faithfulness, answer_correctness]\n",
        "\n",
        "result = evaluate(dataset, metrics=metrics)\n",
        "\n",
        "df = result.to_pandas()"
      ]
    },
    {
      "cell_type": "code",
      "execution_count": null,
      "metadata": {
        "id": "KwYQuN0E3xrX",
        "outputId": "e9064c6d-e800-4574-8cf2-ff95e8d73111"
      },
      "outputs": [
        {
          "data": {
            "text/html": [
              "<div>\n",
              "<style scoped>\n",
              "    .dataframe tbody tr th:only-of-type {\n",
              "        vertical-align: middle;\n",
              "    }\n",
              "\n",
              "    .dataframe tbody tr th {\n",
              "        vertical-align: top;\n",
              "    }\n",
              "\n",
              "    .dataframe thead th {\n",
              "        text-align: right;\n",
              "    }\n",
              "</style>\n",
              "<table border=\"1\" class=\"dataframe\">\n",
              "  <thead>\n",
              "    <tr style=\"text-align: right;\">\n",
              "      <th></th>\n",
              "      <th>user_input</th>\n",
              "      <th>retrieved_contexts</th>\n",
              "      <th>response</th>\n",
              "      <th>reference</th>\n",
              "      <th>faithfulness</th>\n",
              "      <th>answer_correctness</th>\n",
              "    </tr>\n",
              "  </thead>\n",
              "  <tbody>\n",
              "    <tr>\n",
              "      <th>0</th>\n",
              "      <td>What is the vision of NETSOL Technologies Limi...</td>\n",
              "      <td>[NETSOL Technologies Limited | NETSOL Technolo...</td>\n",
              "      <td>Based on the information provided, the vision ...</td>\n",
              "      <td>To become the leading and world-class provider...</td>\n",
              "      <td>NaN</td>\n",
              "      <td>NaN</td>\n",
              "    </tr>\n",
              "  </tbody>\n",
              "</table>\n",
              "</div>"
            ],
            "text/plain": [
              "                                          user_input  \\\n",
              "0  What is the vision of NETSOL Technologies Limi...   \n",
              "\n",
              "                                  retrieved_contexts  \\\n",
              "0  [NETSOL Technologies Limited | NETSOL Technolo...   \n",
              "\n",
              "                                            response  \\\n",
              "0  Based on the information provided, the vision ...   \n",
              "\n",
              "                                           reference  faithfulness  \\\n",
              "0  To become the leading and world-class provider...           NaN   \n",
              "\n",
              "   answer_correctness  \n",
              "0                 NaN  "
            ]
          },
          "execution_count": 275,
          "metadata": {},
          "output_type": "execute_result"
        }
      ],
      "source": [
        "df"
      ]
    },
    {
      "cell_type": "markdown",
      "source": [
        "### Gradio App Creation"
      ],
      "metadata": {
        "id": "Br_L__kW58Ne"
      }
    },
    {
      "cell_type": "code",
      "execution_count": null,
      "metadata": {
        "id": "oo1mbid83VvM",
        "outputId": "49a8f5c3-2ffe-4dd0-bf3b-3a565f19f34c"
      },
      "outputs": [
        {
          "name": "stderr",
          "output_type": "stream",
          "text": [
            "d:\\new-venv\\new-env\\Lib\\site-packages\\gradio\\interface.py:399: UserWarning: The `allow_flagging` parameter in `Interface` is deprecated.Use `flagging_mode` instead.\n",
            "  warnings.warn(\n"
          ]
        },
        {
          "name": "stdout",
          "output_type": "stream",
          "text": [
            "* Running on local URL:  http://127.0.0.1:7866\n",
            "\n",
            "To create a public link, set `share=True` in `launch()`.\n"
          ]
        },
        {
          "data": {
            "text/html": [
              "<div><iframe src=\"http://127.0.0.1:7866/\" width=\"100%\" height=\"500\" allow=\"autoplay; camera; microphone; clipboard-read; clipboard-write;\" frameborder=\"0\" allowfullscreen></iframe></div>"
            ],
            "text/plain": [
              "<IPython.core.display.HTML object>"
            ]
          },
          "metadata": {},
          "output_type": "display_data"
        },
        {
          "data": {
            "text/plain": []
          },
          "execution_count": 15,
          "metadata": {},
          "output_type": "execute_result"
        },
        {
          "name": "stdout",
          "output_type": "stream",
          "text": [
            "In doc_query\n",
            "In is_relevant\n",
            "\n",
            "\n",
            "========== RESPONSE GENERATED WITH RELEVANT CONTEXT =================\n",
            "\n",
            "\n",
            "context = ## Chunk 0:\n",
            "\n",
            "('page_content', 'benefits of superior digital solutions across various touchpoints which can be integrated with any \\nback-end system. NETSOL takes pride in being the pioneer organization to provide a full suite of \\ndigital transformation solutions for the global asset finance and leasing industry.')\n",
            "\n",
            "## Chunk 1:\n",
            "\n",
            "('page_content', 'demands of the company’s diverse global \\nclient base. NETSOL’s focus includes harness-\\ning emerging technologies, including but not \\nlimited to, AI, ML and data analytics, to create \\nsolutions that enhance efficiency and elevate \\nuser experiences. \\nAs a global leader in the provision of tech-')\n",
            "\n",
            "## Chunk 2:\n",
            "\n",
            "('page_content', 'strategic initiatives, NETSOL is confident in its \\nability to sustain growth, provide substantial \\nvalue to stakeholders and uphold its position \\nas a leading technology provider to the global \\nasset finance and leasing industry. \\nAWARDS AND RECOGNITION \\nNETSOL Technologies takes pride in being')\n",
            "\n",
            "\n",
            "In general\n",
            "In search\n"
          ]
        }
      ],
      "source": [
        "def convertQueryToInputsFormat(query):\n",
        "    return {\"messages\": [('human', query)]}\n",
        "\n",
        "\n",
        "async def getFinalGraphResponse(graph, inputs, stream_mode=\"values\"):\n",
        "    final_chunk = None\n",
        "    async for chunk in graph.astream(inputs, stream_mode=stream_mode):\n",
        "        final_chunk = chunk\n",
        "    return final_chunk\n",
        "\n",
        "def getResponse(input_text):\n",
        "    inputs = convertQueryToInputsFormat(input_text)\n",
        "    try:\n",
        "        loop = asyncio.get_event_loop()\n",
        "    # Handle cases where no loop exists\n",
        "    except RuntimeError:\n",
        "        loop = asyncio.new_event_loop()\n",
        "        asyncio.set_event_loop(loop)\n",
        "\n",
        "    final_output = loop.run_until_complete(getFinalGraphResponse(graph, inputs))\n",
        "\n",
        "    if final_output and \"messages\" in final_output:\n",
        "        response = final_output[\"messages\"][-1].content\n",
        "        return response\n",
        "    else:\n",
        "        return \"No response received.\"\n",
        "\n",
        "# Create the Gradio Interface\n",
        "iface = gr.Interface(\n",
        "    fn=getResponse,\n",
        "    inputs=gr.Textbox(\n",
        "        label=\"Enter your question\",\n",
        "        placeholder=\"Type your question here...\"\n",
        "    ),\n",
        "    outputs=\"textbox\",\n",
        "    title=\"Researcher and Doc-Query Handler\",\n",
        "    description=(\n",
        "        \"Ask a question about NetSol Financial Report or internet related query \"\n",
        "        \"This assistant looks up relevant documents if needed and then answers your question.\"\n",
        "    ),\n",
        "    examples=[\n",
        "        [\"What are the main objectives outlined in NETSOL's mission statement?\"],\n",
        "        [\"Who won first t20 match between Pakistan and Zimbabwe?\"],\n",
        "        [\"Who is the CEO of Huawei?\"]\n",
        "    ],\n",
        "    theme=gr.themes.Soft(),\n",
        "    allow_flagging=\"never\"\n",
        ")\n",
        "\n",
        "iface.launch(share=False)\n"
      ]
    },
    {
      "cell_type": "code",
      "execution_count": null,
      "metadata": {
        "id": "zTK7JNe73VvN"
      },
      "outputs": [],
      "source": [
        "# End of code"
      ]
    }
  ],
  "metadata": {
    "colab": {
      "provenance": [],
      "include_colab_link": true
    },
    "kernelspec": {
      "display_name": "new-env",
      "language": "python",
      "name": "python3"
    },
    "language_info": {
      "codemirror_mode": {
        "name": "ipython",
        "version": 3
      },
      "file_extension": ".py",
      "mimetype": "text/x-python",
      "name": "python",
      "nbconvert_exporter": "python",
      "pygments_lexer": "ipython3",
      "version": "3.12.1"
    }
  },
  "nbformat": 4,
  "nbformat_minor": 0
}